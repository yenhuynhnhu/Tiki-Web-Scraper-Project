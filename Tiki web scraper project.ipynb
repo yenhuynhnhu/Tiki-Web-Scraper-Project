{
 "cells": [
  {
   "cell_type": "code",
   "execution_count": null,
   "id": "bf659e84",
   "metadata": {},
   "outputs": [],
   "source": [
    "from bs4 import BeautifulSoup\n",
    "import requests\n",
    "import time\n",
    "import datetime"
   ]
  },
  {
   "cell_type": "code",
   "execution_count": null,
   "id": "0fb72646",
   "metadata": {},
   "outputs": [],
   "source": [
    "from bs4 import BeautifulSoup \n",
    "import requests\n",
    "\n",
    "URL = 'https://tiki.vn/thuc-an-cho-meo-vi-ca-thu-pate-whiskas-85g-p1717729.html?spid=1721291'\n",
    "headers = { \"User-Agent\": \"Mozilla/5.0 (Windows NT 10.0; Win64; x64) AppleWebKit/537.36 (KHTML, like Gecko) Chrome/112.0.0.0 Safari/537.36\"}\n",
    "\n",
    "page = requests.get(URL,headers= headers)\n",
    "\n",
    "soup = BeautifulSoup(page.content ,\"html.parser\")\n",
    "\n",
    "brand = soup.find('div',{'class':'brand'}).get_text()\n",
    "\n",
    "title = soup.find('h1',{'class': 'title'}).get_text()\n",
    "\n",
    "price = soup.find('div',{'class':'product-price__current-price'}).get_text()\n",
    "\n",
    "print(brand)\n",
    "\n",
    "print(title)\n",
    "\n",
    "print(price)\n"
   ]
  },
  {
   "cell_type": "code",
   "execution_count": null,
   "id": "3e6efa44",
   "metadata": {},
   "outputs": [],
   "source": [
    "from datetime import datetime\n",
    "\n",
    "today = datetime.now()\n",
    "\n",
    "today = today.strftime(\"%d-%m-%y\")\n",
    "\n",
    "print(today)\n"
   ]
  },
  {
   "cell_type": "code",
   "execution_count": null,
   "id": "dd98217c",
   "metadata": {},
   "outputs": [],
   "source": [
    "import csv\n",
    "\n",
    "header = ['Title','Price','Brand','Today']\n",
    "data = [title , price, brand, today]\n",
    "\n",
    "with open('TikiWebScrapingDataset.csv','w', newline='', encoding='UTF-8') as f:\n",
    "    writer = csv.writer(f)\n",
    "    writer.writerow(header)\n",
    "    writer.writerow(data)"
   ]
  },
  {
   "cell_type": "code",
   "execution_count": null,
   "id": "e9087792",
   "metadata": {},
   "outputs": [],
   "source": [
    "import pandas as pd\n",
    "\n",
    "df = pd.read_csv(r'C:\\Users\\Administrator\\Downloads\\TikiWebScrapingDataset.csv')\n",
    "\n",
    "print(df)"
   ]
  },
  {
   "cell_type": "code",
   "execution_count": null,
   "id": "3f11681d",
   "metadata": {},
   "outputs": [],
   "source": [
    "with open('TikiWebScrapingDataset.csv','a+', newline='', encoding='UTF-8') as f:\n",
    "    writer = csv.writer(f)\n",
    "    writer.writerow(data)"
   ]
  },
  {
   "cell_type": "code",
   "execution_count": null,
   "id": "db19dc7c",
   "metadata": {},
   "outputs": [],
   "source": [
    "def check_price():\n",
    "    from bs4 import BeautifulSoup \n",
    "    import requests\n",
    "\n",
    "    URL = 'https://tiki.vn/thuc-an-cho-meo-vi-ca-thu-pate-whiskas-85g-p1717729.html?spid=1721291'\n",
    "    headers = { \"User-Agent\": \"Mozilla/5.0 (Windows NT 10.0; Win64; x64) AppleWebKit/537.36 (KHTML, like Gecko) Chrome/112.0.0.0 Safari/537.36\"}\n",
    "\n",
    "    page = requests.get(URL,headers= headers)\n",
    "\n",
    "    soup = BeautifulSoup(page.content ,\"html.parser\")\n",
    "\n",
    "    brand = soup.find('div',{'class':'brand'}).get_text()\n",
    "\n",
    "    title = soup.find('h1',{'class': 'title'}).get_text()\n",
    "\n",
    "    price = soup.find('div',{'class':'product-price__current-price'}).get_text()\n",
    "\n",
    "    from datetime import datetime\n",
    "\n",
    "    today = datetime.now()\n",
    "\n",
    "    today = today.strftime(\"%d-%m-%y\")\n",
    "    \n",
    "    import csv\n",
    "\n",
    "    header = ['Title','Price','Brand','Today']\n",
    "    data = [title , price, brand, today]\n",
    "\n",
    "    with open('TikiWebScrapingDataset.csv','a+', newline='', encoding='UTF-8') as f:\n",
    "        writer = csv.writer(f)\n",
    "        writer.writerow(data)\n",
    "    "
   ]
  },
  {
   "cell_type": "code",
   "execution_count": null,
   "id": "ae5162a8",
   "metadata": {},
   "outputs": [],
   "source": [
    "import time\n",
    "while True:\n",
    "    check_price()\n",
    "    time.sleep(86400)  #check the price every single day: 1 day = 86400 seconds"
   ]
  },
  {
   "cell_type": "code",
   "execution_count": null,
   "id": "a85bf099",
   "metadata": {},
   "outputs": [],
   "source": [
    "import pandas as pd\n",
    "\n",
    "df = pd.read_csv(r'C:\\Users\\Administrator\\Downloads\\TikiWebScrapingDataset.csv')\n",
    "\n",
    "print(df)"
   ]
  }
 ],
 "metadata": {
  "kernelspec": {
   "display_name": "Python 3 (ipykernel)",
   "language": "python",
   "name": "python3"
  },
  "language_info": {
   "codemirror_mode": {
    "name": "ipython",
    "version": 3
   },
   "file_extension": ".py",
   "mimetype": "text/x-python",
   "name": "python",
   "nbconvert_exporter": "python",
   "pygments_lexer": "ipython3",
   "version": "3.10.4"
  }
 },
 "nbformat": 4,
 "nbformat_minor": 5
}
